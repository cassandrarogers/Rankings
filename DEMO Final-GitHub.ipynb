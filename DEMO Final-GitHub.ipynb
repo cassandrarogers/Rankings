{
 "cells": [
  {
   "cell_type": "code",
   "execution_count": 1,
   "metadata": {},
   "outputs": [],
   "source": [
    "from GitHub_RankingsScraperShell import GetRankings"
   ]
  },
  {
   "cell_type": "code",
   "execution_count": 2,
   "metadata": {},
   "outputs": [
    {
     "name": "stdout",
     "output_type": "stream",
     "text": [
      "\n",
      " Ranking Metadata:  \n",
      "\n",
      " Ranking Year:  2018 \n",
      " Publication Date:  2018-06-21 \n",
      " Scope:  National \n",
      " Primary:  1 \n",
      "\n",
      "\n",
      "Initiating web scraping...\n",
      "New Jersey Institute of Technology- Data captured successfully\n",
      "Saving the data to csv...\n"
     ]
    },
    {
     "data": {
      "text/html": [
       "<div>\n",
       "<style>\n",
       "    .dataframe thead tr:only-child th {\n",
       "        text-align: right;\n",
       "    }\n",
       "\n",
       "    .dataframe thead th {\n",
       "        text-align: left;\n",
       "    }\n",
       "\n",
       "    .dataframe tbody tr th {\n",
       "        vertical-align: top;\n",
       "    }\n",
       "</style>\n",
       "<table border=\"1\" class=\"dataframe\">\n",
       "  <thead>\n",
       "    <tr style=\"text-align: right;\">\n",
       "      <th></th>\n",
       "      <th>Rank</th>\n",
       "      <th>Ranking Name</th>\n",
       "      <th>School</th>\n",
       "      <th>Ranking Year</th>\n",
       "      <th>Publication Date</th>\n",
       "      <th>Scope</th>\n",
       "      <th>Primary Ranking</th>\n",
       "    </tr>\n",
       "  </thead>\n",
       "  <tbody>\n",
       "    <tr>\n",
       "      <th>0</th>\n",
       "      <td>140 (tie)</td>\n",
       "      <td>US News - National Universities</td>\n",
       "      <td>New Jersey Institute of Technology</td>\n",
       "      <td>2018</td>\n",
       "      <td>2018-06-21</td>\n",
       "      <td>National</td>\n",
       "      <td>1</td>\n",
       "    </tr>\n",
       "    <tr>\n",
       "      <th>1</th>\n",
       "      <td>89 (tie)</td>\n",
       "      <td>US News - Best Colleges for Veterans</td>\n",
       "      <td>New Jersey Institute of Technology</td>\n",
       "      <td>2018</td>\n",
       "      <td>2018-06-21</td>\n",
       "      <td>National</td>\n",
       "      <td>1</td>\n",
       "    </tr>\n",
       "    <tr>\n",
       "      <th>2</th>\n",
       "      <td>32</td>\n",
       "      <td>US News - Best Value Schools</td>\n",
       "      <td>New Jersey Institute of Technology</td>\n",
       "      <td>2018</td>\n",
       "      <td>2018-06-21</td>\n",
       "      <td>National</td>\n",
       "      <td>1</td>\n",
       "    </tr>\n",
       "    <tr>\n",
       "      <th>3</th>\n",
       "      <td>128 (tie)</td>\n",
       "      <td>US News - High School Counselor Rankings</td>\n",
       "      <td>New Jersey Institute of Technology</td>\n",
       "      <td>2018</td>\n",
       "      <td>2018-06-21</td>\n",
       "      <td>National</td>\n",
       "      <td>1</td>\n",
       "    </tr>\n",
       "    <tr>\n",
       "      <th>4</th>\n",
       "      <td>68 (tie)</td>\n",
       "      <td>US News - Top Public Schools</td>\n",
       "      <td>New Jersey Institute of Technology</td>\n",
       "      <td>2018</td>\n",
       "      <td>2018-06-21</td>\n",
       "      <td>National</td>\n",
       "      <td>1</td>\n",
       "    </tr>\n",
       "    <tr>\n",
       "      <th>5</th>\n",
       "      <td></td>\n",
       "      <td>US News - Business Programs</td>\n",
       "      <td>New Jersey Institute of Technology</td>\n",
       "      <td>2018</td>\n",
       "      <td>2018-06-21</td>\n",
       "      <td>National</td>\n",
       "      <td>1</td>\n",
       "    </tr>\n",
       "    <tr>\n",
       "      <th>6</th>\n",
       "      <td>82 (tie)</td>\n",
       "      <td>US News - Best Undergraduate Engineering Programs</td>\n",
       "      <td>New Jersey Institute of Technology</td>\n",
       "      <td>2018</td>\n",
       "      <td>2018-06-21</td>\n",
       "      <td>National</td>\n",
       "      <td>1</td>\n",
       "    </tr>\n",
       "  </tbody>\n",
       "</table>\n",
       "</div>"
      ],
      "text/plain": [
       "        Rank                                       Ranking Name  \\\n",
       "0  140 (tie)                    US News - National Universities   \n",
       "1   89 (tie)               US News - Best Colleges for Veterans   \n",
       "2         32                       US News - Best Value Schools   \n",
       "3  128 (tie)           US News - High School Counselor Rankings   \n",
       "4   68 (tie)                       US News - Top Public Schools   \n",
       "5                                   US News - Business Programs   \n",
       "6   82 (tie)  US News - Best Undergraduate Engineering Programs   \n",
       "\n",
       "                               School  Ranking Year Publication Date  \\\n",
       "0  New Jersey Institute of Technology          2018       2018-06-21   \n",
       "1  New Jersey Institute of Technology          2018       2018-06-21   \n",
       "2  New Jersey Institute of Technology          2018       2018-06-21   \n",
       "3  New Jersey Institute of Technology          2018       2018-06-21   \n",
       "4  New Jersey Institute of Technology          2018       2018-06-21   \n",
       "5  New Jersey Institute of Technology          2018       2018-06-21   \n",
       "6  New Jersey Institute of Technology          2018       2018-06-21   \n",
       "\n",
       "      Scope  Primary Ranking  \n",
       "0  National                1  \n",
       "1  National                1  \n",
       "2  National                1  \n",
       "3  National                1  \n",
       "4  National                1  \n",
       "5  National                1  \n",
       "6  National                1  "
      ]
     },
     "execution_count": 2,
     "metadata": {},
     "output_type": "execute_result"
    }
   ],
   "source": [
    "BestColleges = GetRankings('US_News_Best_Colleges', url ='https://www.usnews.com/best-colleges/njit-2621/overall-rankings')\n",
    "BestColleges"
   ]
  },
  {
   "cell_type": "code",
   "execution_count": null,
   "metadata": {},
   "outputs": [],
   "source": [
    "Grad_Rankings = GetRankings('US_News_Graduate_Schools', url ='https://www.usnews.com/best-graduate-schools/georgia-institute-of-technology-139755/overall-rankings')\n",
    "Grad_Rankings"
   ]
  },
  {
   "cell_type": "code",
   "execution_count": null,
   "metadata": {},
   "outputs": [],
   "source": [
    "OnlineProg_Rankings = GetRankings('US_News_Online_Programs', url ='https://www.usnews.com/education/online-education/northeastern-university-167358/rankings')\n",
    "OnlineProg_Rankings"
   ]
  },
  {
   "cell_type": "code",
   "execution_count": null,
   "metadata": {},
   "outputs": [],
   "source": [
    "ForbesRankings = GetRankings('Forbes')\n",
    "ForbesRankings"
   ]
  },
  {
   "cell_type": "code",
   "execution_count": null,
   "metadata": {},
   "outputs": [],
   "source": [
    "PayScaleRankings = GetRankings('PayScale_College_Salary_Report', limit = 10)\n",
    "PayScaleRankings "
   ]
  }
 ],
 "metadata": {
  "kernelspec": {
   "display_name": "Python 3",
   "language": "python",
   "name": "python3"
  },
  "language_info": {
   "codemirror_mode": {
    "name": "ipython",
    "version": 3
   },
   "file_extension": ".py",
   "mimetype": "text/x-python",
   "name": "python",
   "nbconvert_exporter": "python",
   "pygments_lexer": "ipython3",
   "version": "3.6.5"
  }
 },
 "nbformat": 4,
 "nbformat_minor": 2
}
